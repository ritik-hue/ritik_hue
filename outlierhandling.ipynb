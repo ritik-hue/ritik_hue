{
  "nbformat": 4,
  "nbformat_minor": 0,
  "metadata": {
    "colab": {
      "provenance": [],
      "authorship_tag": "ABX9TyM7zIWLJ4VB8190PbeNEsCi",
      "include_colab_link": true
    },
    "kernelspec": {
      "name": "python3",
      "display_name": "Python 3"
    },
    "language_info": {
      "name": "python"
    }
  },
  "cells": [
    {
      "cell_type": "markdown",
      "metadata": {
        "id": "view-in-github",
        "colab_type": "text"
      },
      "source": [
        "<a href=\"https://colab.research.google.com/github/ritik-hue/statistics/blob/main/outlierhandling.ipynb\" target=\"_parent\"><img src=\"https://colab.research.google.com/assets/colab-badge.svg\" alt=\"Open In Colab\"/></a>"
      ]
    },
    {
      "cell_type": "code",
      "execution_count": 1,
      "metadata": {
        "id": "nbrGYRlCN6DA"
      },
      "outputs": [],
      "source": [
        "import pandas as pd\n",
        "import numpy as np\n",
        "import matplotlib.pyplot as plt\n",
        "%matplotlib inline"
      ]
    },
    {
      "cell_type": "code",
      "source": [
        "dataset=[1,3,5,7,12,23,24,19,10,100,16,17,21,28]"
      ],
      "metadata": {
        "id": "MZaLZpCnONA4"
      },
      "execution_count": 2,
      "outputs": []
    },
    {
      "cell_type": "code",
      "source": [
        "outliers=[]\n",
        "def detect_outliers(data):\n",
        "  mean=np.mean(data)\n",
        "  std=np.std(data)\n",
        "  threshold=3*std\n",
        "\n",
        "  for i in data:\n",
        "    z_score=(i-mean)/std\n",
        "    if np.abs(z_score)>threshold:\n",
        "      outliers.append(i)\n",
        "  return outliers"
      ],
      "metadata": {
        "id": "_VBdMZe2Oj0a"
      },
      "execution_count": 12,
      "outputs": []
    },
    {
      "cell_type": "code",
      "source": [
        "detect_outliers(dataset)"
      ],
      "metadata": {
        "colab": {
          "base_uri": "https://localhost:8080/"
        },
        "id": "4kk-wjdKPjtm",
        "outputId": "a42e862a-3273-4038-e8d6-f90ccc5c4134"
      },
      "execution_count": 13,
      "outputs": [
        {
          "output_type": "execute_result",
          "data": {
            "text/plain": [
              "[]"
            ]
          },
          "metadata": {},
          "execution_count": 13
        }
      ]
    },
    {
      "cell_type": "code",
      "source": [
        "##IQR\n",
        "dataset=sorted(dataset)"
      ],
      "metadata": {
        "id": "IeyGWyd5P5Z7"
      },
      "execution_count": 5,
      "outputs": []
    },
    {
      "cell_type": "code",
      "source": [
        "q1,q3=np.percentile(dataset,[25,75])"
      ],
      "metadata": {
        "id": "ek354SeNQSjE"
      },
      "execution_count": 6,
      "outputs": []
    },
    {
      "cell_type": "code",
      "source": [
        "iqr=q3-q1\n",
        "print(iqr)"
      ],
      "metadata": {
        "colab": {
          "base_uri": "https://localhost:8080/"
        },
        "id": "yGQ1oQ7_QZje",
        "outputId": "4af61448-470f-48b0-d229-aba7929195f4"
      },
      "execution_count": 7,
      "outputs": [
        {
          "output_type": "stream",
          "name": "stdout",
          "text": [
            "14.75\n"
          ]
        }
      ]
    },
    {
      "cell_type": "code",
      "source": [
        "lower_fence=q1- (1.5* iqr)\n",
        "higher_fence=q3+ (1.5*iqr)\n",
        "print(lower_fence,higher_fence)"
      ],
      "metadata": {
        "colab": {
          "base_uri": "https://localhost:8080/"
        },
        "id": "Mdj0vXnYQiP-",
        "outputId": "3cd15136-375b-4eca-8c19-725c20efa49b"
      },
      "execution_count": 9,
      "outputs": [
        {
          "output_type": "stream",
          "name": "stdout",
          "text": [
            "-14.375 44.625\n"
          ]
        }
      ]
    },
    {
      "cell_type": "code",
      "source": [
        "outlier=[]\n",
        "def outlierdet(data):\n",
        "  for i in data:\n",
        "    if data>higher_fence:\n",
        "      outlier.append(i)\n",
        "    elif data<lower_fence:\n",
        "      outlier.append(i)\n",
        "  return outlier\n",
        "\n"
      ],
      "metadata": {
        "id": "IDnm5d3iQ27B"
      },
      "execution_count": 17,
      "outputs": []
    },
    {
      "cell_type": "code",
      "source": [
        "import seaborn as sns\n",
        "sns.boxplot(dataset)"
      ],
      "metadata": {
        "colab": {
          "base_uri": "https://localhost:8080/",
          "height": 447
        },
        "id": "_p552duQSAnY",
        "outputId": "f62b5bfd-9825-439e-d703-1ad547ebf904"
      },
      "execution_count": 19,
      "outputs": [
        {
          "output_type": "execute_result",
          "data": {
            "text/plain": [
              "<Axes: >"
            ]
          },
          "metadata": {},
          "execution_count": 19
        },
        {
          "output_type": "display_data",
          "data": {
            "text/plain": [
              "<Figure size 640x480 with 1 Axes>"
            ],
            "image/png": "[encoded data removed]"
          },
          "metadata": {}
        }
      ]
    },
    {
      "cell_type": "code",
      "source": [],
      "metadata": {
        "id": "ARxyjvhbSDPh"
      },
      "execution_count": null,
      "outputs": []
    }
  ]
}